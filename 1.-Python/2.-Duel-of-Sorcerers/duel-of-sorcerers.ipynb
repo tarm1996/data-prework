{
 "cells": [
  {
   "cell_type": "markdown",
   "metadata": {},
   "source": [
    "<img src=\"https://bit.ly/2VnXWr2\" width=\"100\" align=\"left\">"
   ]
  },
  {
   "cell_type": "markdown",
   "metadata": {},
   "source": [
    "# Duel of Sorcerers\n",
    "You are witnessing an epic battle between two powerful sorcerers: Gandalf and Saruman. Each sorcerer has 10 spells of variable power in their mind and they are going to throw them one after the other. The winner of the duel will be the one who wins more of those clashes between spells. Spells are represented as a list of 10 integers whose value equals the power of the spell.\n",
    "```\n",
    "gandalf = [10, 11, 13, 30, 22, 11, 10, 33, 22, 22]\n",
    "saruman = [23, 66, 12, 43, 12, 10, 44, 23, 12, 17]\n",
    "```\n",
    "For example:\n",
    "- The first clash is won by Saruman: 10 against 23.\n",
    "- The second clash is won by Saruman: 11 against 66.\n",
    "- ...\n",
    "\n",
    "You will create two variables, one for each sorcerer, where the sum of clashes won will be stored. Depending on which variable is greater at the end of the duel, you will show one of the following three results on the screen:\n",
    "* Gandalf wins\n",
    "* Saruman wins\n",
    "* Tie\n",
    "\n",
    "<img src=\"images/content_lightning_bolt_big.jpg\" width=\"400\">"
   ]
  },
  {
   "cell_type": "markdown",
   "metadata": {},
   "source": [
    "## Tools\n",
    "You don't necessarily need to use all the tools. Maybe you opt to use some of them or completely different ones, they are given to help you shape the exercise. Programming exercises can be solved in many different ways.\n",
    "\n",
    "1. Data structures: **lists, dictionaries**\n",
    "2. Loop: **for loop**\n",
    "3. Conditional statements: **if-elif-else**\n",
    "4. Functions: **range(), len(), print()**\n",
    "\n",
    "## Tasks\n",
    "\n",
    "#### 1. Create two variables called `gandalf` and `saruman` and assign them the spell power lists. Create a variable called `spells` to store the number of spells that the sorcerers cast. "
   ]
  },
  {
   "cell_type": "code",
   "execution_count": null,
   "metadata": {},
   "outputs": [],
   "source": [
    "gandalf = [10, 11, 13, 30, 22, 11, 10, 33, 22, 22]\n",
    "saruman = [23, 66, 12, 43, 12, 10, 44, 23, 12, 17]\n",
    "spells = 10"
   ]
  },
  {
   "cell_type": "markdown",
   "metadata": {},
   "source": [
    "#### 2. Create two variables called `gandalf_wins` and `saruman_wins`. Set both of them to 0. \n",
    "You will use these variables to count the number of clashes each sorcerer wins. "
   ]
  },
  {
   "cell_type": "code",
   "execution_count": null,
   "metadata": {},
   "outputs": [],
   "source": [
    "gandalf_wins = 0\n",
    "saruman_wins = 0"
   ]
  },
  {
   "cell_type": "markdown",
   "metadata": {},
   "source": [
    "#### 3. Using the lists of spells of both sorcerers, update variables `gandalf_wins` and `saruman_wins` to count the number of times each sorcerer wins a clash. "
   ]
  },
  {
   "cell_type": "code",
   "execution_count": 10,
   "metadata": {},
   "outputs": [
    {
     "name": "stdout",
     "output_type": "stream",
     "text": [
      "Gandalf wins: 6\n",
      "Saruman wins: 4\n"
     ]
    }
   ],
   "source": [
    "for a, b in zip(saruman, gandalf):\n",
    "    if b>a:\n",
    "        gandalf_wins += 1\n",
    "    elif a>b:\n",
    "        saruman_wins += 1"
   ]
  },
  {
   "cell_type": "markdown",
   "metadata": {},
   "source": [
    "#### 4. Who won the battle?\n",
    "Print `Gandalf wins`, `Saruman wins` or `Tie` depending on the result. "
   ]
  },
  {
   "cell_type": "code",
   "execution_count": 11,
   "metadata": {},
   "outputs": [
    {
     "name": "stdout",
     "output_type": "stream",
     "text": [
      "Gandalf wins: 6\n",
      "Saruman wins: 4\n"
     ]
    }
   ],
   "source": [
    "print(\"Gandalf wins:\", gandalf_wins)\n",
    "print(\"Saruman wins:\", saruman_wins)"
   ]
  },
  {
   "cell_type": "markdown",
   "metadata": {},
   "source": [
    "## Bonus\n",
    "\n",
    "In this bonus challenge, you'll need to check the winner of the battle but this time, a sorcerer wins if he succeeds in winning 3 spell clashes in a row.\n",
    "\n",
    "Also, the spells now have a name and there is a dictionary that associates that name to a power.\n",
    "\n",
    "```\n",
    "POWER = {\n",
    "    'Fireball': 50, \n",
    "    'Lightning bolt': 40, \n",
    "    'Magic arrow': 10, \n",
    "    'Black Tentacles': 25, \n",
    "    'Contagion': 45\n",
    "}\n",
    "\n",
    "gandalf = ['Fireball', 'Lightning bolt', 'Lightning bolt', 'Magic arrow', 'Fireball', \n",
    "           'Magic arrow', 'Lightning bolt', 'Fireball', 'Fireball', 'Fireball']\n",
    "saruman = ['Contagion', 'Contagion', 'Black Tentacles', 'Fireball', 'Black Tentacles', \n",
    "           'Lightning bolt', 'Magic arrow', 'Contagion', 'Magic arrow', 'Magic arrow']\n",
    "```\n",
    "\n",
    "#### 1. Create variables `POWER`, `gandalf` and `saruman` as seen above. Create a variable called `spells` to store the number of spells that the sorcerers cast. "
   ]
  },
  {
   "cell_type": "code",
   "execution_count": null,
   "metadata": {},
   "outputs": [],
   "source": [
    "POWER = {'Fireball': 50, 'Lightning bolt': 40, 'Magic arrow': 10, 'Black Tentacles': 25, 'Contagion': 45}\n",
    "gandalf = ['Fireball', 'Lightning bolt', 'Lightning bolt', 'Magic arrow', 'Fireball', 'Magic arrow', 'Lightning bolt', 'Fireball', 'Fireball', 'Fireball']\n",
    "saruman = ['Contagion', 'Contagion', 'Black Tentacles', 'Fireball', 'Black Tentacles', 'Lightning bolt', 'Magic arrow', 'Contagion', 'Magic arrow', 'Magic arrow']\n",
    "spells = 0"
   ]
  },
  {
   "cell_type": "markdown",
   "metadata": {},
   "source": [
    "#### 2. Create two variables called `gandalf_wins` and `saruman_wins`. Set both of them to 0. "
   ]
  },
  {
   "cell_type": "code",
   "execution_count": null,
   "metadata": {},
   "outputs": [],
   "source": [
    "gandalf_wins = 0\n",
    "saruman_wins = 0"
   ]
  },
  {
   "cell_type": "markdown",
   "metadata": {},
   "source": [
    "#### 3. Create two variables called `gandalf_power` and `saruman_power` to store the list of spell powers of each sorcerer."
   ]
  },
  {
   "cell_type": "code",
   "execution_count": 15,
   "metadata": {},
   "outputs": [
    {
     "name": "stdout",
     "output_type": "stream",
     "text": [
      "Gandalf's spell powers: [50, 40, 40, 10, 50, 10, 40, 50, 50, 50]\n",
      "Saruman's spell powers: [45, 45, 25, 50, 25, 40, 10, 45, 10, 10]\n"
     ]
    }
   ],
   "source": [
    "gandalf_power = []\n",
    "saruman_power = []\n",
    "\n",
    "for spell in gandalf:\n",
    "    gandalf_power.append(POWER[spell])\n",
    "for spell in saruman:\n",
    "    saruman_power.append(POWER[spell])\n",
    "    \n",
    "print(f\"Gandalf's spell powers: {gandalf_power}\")\n",
    "print(f\"Saruman's spell powers: {saruman_power}\")"
   ]
  },
  {
   "cell_type": "markdown",
   "metadata": {},
   "source": [
    "#### 4. The battle starts! Using the variables you've created above, code the execution of spell clashes. Remember that a sorcerer wins if he succeeds in winning 3 spell clashes in a row. \n",
    "If a clash ends up in a tie, the counter of wins in a row is not restarted to 0. Remember to print who is the winner of the battle. "
   ]
  },
  {
   "cell_type": "code",
   "execution_count": 20,
   "metadata": {},
   "outputs": [
    {
     "name": "stdout",
     "output_type": "stream",
     "text": [
      "> Round 0! Gandalf: 50, Saruman: 45\n",
      "Gandalf wins 1 round(s) in a row.\n",
      "Noone won 3 rounds in a row yet.\n",
      "> Round 1! Gandalf: 40, Saruman: 45\n",
      "Saruman wins 1 round(s) in a row.\n",
      "Noone won 3 rounds in a row yet.\n",
      "> Round 2! Gandalf: 40, Saruman: 25\n",
      "Gandalf wins 1 round(s) in a row.\n",
      "Noone won 3 rounds in a row yet.\n",
      "> Round 3! Gandalf: 10, Saruman: 50\n",
      "Saruman wins 1 round(s) in a row.\n",
      "Noone won 3 rounds in a row yet.\n",
      "> Round 4! Gandalf: 50, Saruman: 25\n",
      "Gandalf wins 1 round(s) in a row.\n",
      "Noone won 3 rounds in a row yet.\n",
      "> Round 5! Gandalf: 10, Saruman: 40\n",
      "Saruman wins 1 round(s) in a row.\n",
      "Noone won 3 rounds in a row yet.\n",
      "> Round 6! Gandalf: 40, Saruman: 10\n",
      "Gandalf wins 1 round(s) in a row.\n",
      "Noone won 3 rounds in a row yet.\n",
      "> Round 7! Gandalf: 50, Saruman: 45\n",
      "Gandalf wins 2 round(s) in a row.\n",
      "Noone won 3 rounds in a row yet.\n",
      "> Round 8! Gandalf: 50, Saruman: 10\n",
      "Gandalf wins 3 round(s) in a row.\n",
      "Gandalf wins the duel\n"
     ]
    }
   ],
   "source": [
    "last_winner = None\n",
    "\n",
    "for round in range(len(gandalf_power)):\n",
    "    g_spell = gandalf_power[round]\n",
    "    s_spell = saruman_power[round]\n",
    "    print(f\"> Round {round}! Gandalf: {g_spell}, Saruman: {s_spell}\")\n",
    "    if g_spell == s_spell:\n",
    "        print(f\"It's a tie!\")\n",
    "    if g_spell > s_spell:\n",
    "        if last_winner != 'Gandalf':\n",
    "            last_winner = 'Gandalf'\n",
    "            gandalf_wins = 1\n",
    "        else:\n",
    "            gandalf_wins = gandalf_wins + 1\n",
    "        print(f\"Gandalf wins {gandalf_wins} round(s) in a row.\")\n",
    "    if g_spell < s_spell:\n",
    "        if last_winner != 'Saruman':\n",
    "            last_winner = 'Saruman'\n",
    "            saruman_wins = 1\n",
    "        else:\n",
    "            saruman_wins = saruman_wins + 1\n",
    "        print(f\"Saruman wins {saruman_wins} round(s) in a row.\")\n",
    "    if gandalf_wins == 3:\n",
    "        print(\"Gandalf wins the duel\")\n",
    "        break\n",
    "    if saruman_wins == 3:\n",
    "        print(\"Saruman wins the duel\")\n",
    "        break\n",
    "    print(\"Noone won 3 rounds in a row yet.\")"
   ]
  },
  {
   "cell_type": "markdown",
   "metadata": {},
   "source": [
    "#### 5. Find the average spell power of Gandalf and Saruman. "
   ]
  },
  {
   "cell_type": "code",
   "execution_count": 23,
   "metadata": {},
   "outputs": [
    {
     "name": "stdout",
     "output_type": "stream",
     "text": [
      "The average spell power of Gandalf is 39.0\n",
      "The average spell power of Saruman is 30.5\n"
     ]
    }
   ],
   "source": [
    "print(\"The average spell power of Gandalf is\", sum(gandalf_power) / len(gandalf_power))\n",
    "print(\"The average spell power of Saruman is\", sum(saruman_power) / len(saruman_power))"
   ]
  },
  {
   "cell_type": "markdown",
   "metadata": {},
   "source": [
    "#### 6. Find the standard deviation of the spell power of Gandalf and Saruman. "
   ]
  },
  {
   "cell_type": "code",
   "execution_count": 32,
   "metadata": {},
   "outputs": [
    {
     "name": "stdout",
     "output_type": "stream",
     "text": [
      "The standard deviation of the spell power of Gandalf is 15.132745950421556\n",
      "The standard deviation of the spell power of Saruman is 15.56438241627338\n"
     ]
    }
   ],
   "source": [
    "print(\"The standard deviation of the spell power of Gandalf is\", numpy.std(gandalf_power))\n",
    "print(\"The standard deviation of the spell power of Saruman is\", numpy.std(saruman_power))"
   ]
  }
 ],
 "metadata": {
  "kernelspec": {
   "display_name": "Python 3",
   "language": "python",
   "name": "python3"
  },
  "language_info": {
   "codemirror_mode": {
    "name": "ipython",
    "version": 3
   },
   "file_extension": ".py",
   "mimetype": "text/x-python",
   "name": "python",
   "nbconvert_exporter": "python",
   "pygments_lexer": "ipython3",
   "version": "3.8.5"
  }
 },
 "nbformat": 4,
 "nbformat_minor": 2
}
